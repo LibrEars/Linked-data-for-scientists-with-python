{
 "cells": [
  {
   "cell_type": "markdown",
   "metadata": {},
   "source": [
    "# Part one: The semantic web and a RDFLib example\n",
    "\n",
    "## Introduction\n",
    "\n",
    "Work in progress...\n",
    "\n",
    "The goal is to write down and store scientific experimental data with metadata in a machine readable intelligent form. Integrated in researchers daily workflow the following shall facilitate:\n",
    "* Re-use of the data (also foreign data)\n",
    "* Reproducibility\n",
    "* Building joint databases capable of querying for specific questions like: \"I need a material with bandgap in the range 2.4 - 3 eV solvable in ethanol\" or \"All spectral data on P3HT mixed with whatever\".\n",
    "* Easy publishing with tomorrow's citation and publishing methods"
   ]
  },
  {
   "cell_type": "markdown",
   "metadata": {},
   "source": [
    "# Learn python for scientific usage\n",
    "The following tutorials are suited for beginners but might be interesting too for more advanced Pythonians.\n",
    "\n",
    "* [Python for Scientists](http://www.mpia.de/~robitaille/PY4SCI_SS_2015/)\n",
    "* [IPython Notebook Tutorial](https://youtu.be/lmoNmY-cmSI?list=PLRJx8WOUx5Xd3_dgw5xRmABUd8MWdsA_C)"
   ]
  },
  {
   "cell_type": "markdown",
   "metadata": {},
   "source": [
    "## Learn about the semantic web:\n",
    "\n",
    "A video for the general concept: https://www.youtube.com/watch?v=4x_xzT5eF5Q\n",
    "\n",
    "Popular Open Data datasets: http://wiki.dbpedia.org/about\n",
    "\n",
    "Some basics: http://linkeddatabook.com\n",
    "\n",
    "\n",
    "&nbsp;\n",
    "\n",
    "&nbsp;\n",
    "\n",
    "![LOD_Cloud_2014](https://upload.wikimedia.org/wikipedia/commons/thumb/0/08/LOD_Cloud_2014.svg/1280px-LOD_Cloud_2014.svg.png) lod-cloud.net\n",
    "\n",
    "&nbsp;\n",
    "\n",
    "&nbsp;\n",
    "\n",
    "### RDF\n",
    "The Resource Description Framework (RDF) is a directed, labeled graph **data model** for representing information in the Web (files can be serialized in multiple formats: JSON-LD, Turtle, N3, RDF/XML). \"RDF has features that facilitate data merging even if the underlying schemata differ, and it specifically supports the evolution of schemata over time without requiring all the data consumers to be changed\" (https://www.w3.org/2001/sw/wiki/RDF).\n",
    "\n",
    "### Learn querying a RDF database (SPARQL query language)\n",
    "Here is a good intro video (querying in python is still done via the SPARQL syntax):\n",
    "* https://www.youtube.com/watch?v=FvGndkpa4K0\n",
    "\n",
    "Then as a reference there is the W3C Recommendation which defines the syntax and semantics of the SPARQL query language for RDF:\n",
    "\n",
    "* https://www.w3.org/TR/sparql11-query/"
   ]
  },
  {
   "cell_type": "markdown",
   "metadata": {},
   "source": [
    "## RDFLib example: Linking experiment data and meta-data as graph\n",
    "### Import of .txt into pandas"
   ]
  },
  {
   "cell_type": "code",
   "execution_count": 1,
   "metadata": {
    "collapsed": false
   },
   "outputs": [
    {
     "data": {
      "text/plain": [
       "['high_intens.txt']"
      ]
     },
     "execution_count": 1,
     "metadata": {},
     "output_type": "execute_result"
    }
   ],
   "source": [
    "import numpy as np\n",
    "import pandas as pd\n",
    "import os\n",
    "import glob\n",
    "\n",
    "\n",
    "import matplotlib.pyplot as plt\n",
    "%matplotlib inline\n",
    "\n",
    "glob.glob(\"*.txt\")"
   ]
  },
  {
   "cell_type": "code",
   "execution_count": 2,
   "metadata": {
    "collapsed": false
   },
   "outputs": [
    {
     "data": {
      "text/html": [
       "<div>\n",
       "<table border=\"1\" class=\"dataframe\">\n",
       "  <thead>\n",
       "    <tr style=\"text-align: right;\">\n",
       "      <th></th>\n",
       "      <th>Wavelength [nm]</th>\n",
       "      <th>Counts [1/80 ms]</th>\n",
       "    </tr>\n",
       "  </thead>\n",
       "  <tbody>\n",
       "    <tr>\n",
       "      <th>0</th>\n",
       "      <td>181.49</td>\n",
       "      <td>14.00</td>\n",
       "    </tr>\n",
       "    <tr>\n",
       "      <th>1</th>\n",
       "      <td>181.71</td>\n",
       "      <td>10.90</td>\n",
       "    </tr>\n",
       "    <tr>\n",
       "      <th>2</th>\n",
       "      <td>181.92</td>\n",
       "      <td>17.23</td>\n",
       "    </tr>\n",
       "    <tr>\n",
       "      <th>3</th>\n",
       "      <td>182.14</td>\n",
       "      <td>9.45</td>\n",
       "    </tr>\n",
       "    <tr>\n",
       "      <th>4</th>\n",
       "      <td>182.36</td>\n",
       "      <td>10.65</td>\n",
       "    </tr>\n",
       "  </tbody>\n",
       "</table>\n",
       "</div>"
      ],
      "text/plain": [
       "   Wavelength [nm]  Counts [1/80 ms]\n",
       "0           181.49             14.00\n",
       "1           181.71             10.90\n",
       "2           181.92             17.23\n",
       "3           182.14              9.45\n",
       "4           182.36             10.65"
      ]
     },
     "execution_count": 2,
     "metadata": {},
     "output_type": "execute_result"
    }
   ],
   "source": [
    "# Import spectrum\n",
    "rawData = pd.read_table(\"high_intens.txt\", names = [\"Wavelength [nm]\",\"Counts [1/80 ms]\"],\n",
    "                        header=17, decimal=\",\")\n",
    "rawData.head()"
   ]
  },
  {
   "cell_type": "code",
   "execution_count": 3,
   "metadata": {
    "collapsed": false
   },
   "outputs": [
    {
     "data": {
      "image/png": "[encoded data removed]",
      "text/plain": [
       "<matplotlib.figure.Figure at 0x7fa4fa2b1b00>"
      ]
     },
     "metadata": {},
     "output_type": "display_data"
    }
   ],
   "source": [
    "rawData.plot(x=\"Wavelength [nm]\",y=\"Counts [1/80 ms]\",figsize=(8,6),fontsize=18)\n",
    "plt.title(\"A sodium spectrum\", fontsize=28)\n",
    "plt.xlabel(\"Wavelength [nm]\",fontsize=18)\n",
    "plt.ylabel(\"Counts [1/80 ms]\",fontsize=18)\n",
    "plt.ylim(0,1000)\n",
    "# plt.savefig(\"Sectrum.eps\")\n",
    "plt.show()"
   ]
  },
  {
   "cell_type": "markdown",
   "metadata": {},
   "source": [
    "## Go semantic!\n",
    "### Namespace\n",
    "Which ontologies/schemata?\n",
    "-> dbpedia.org identifiers (URIs)?: http://linkeddatabook.com/editions/1.0/#htoc39\n",
    "\n",
    "#### Vocabularies for laboratory reporting:\n",
    "* http://www.sparontologies.net/ontologies\n",
    "* http://aber-owl.net/ontology/BRIDG\n",
    "* http://aber-owl.net/ontology/SP\n",
    "* https://www.w3.org/TR/annotation-model/\n",
    "* http://xml.coverpages.org/matML.html\n",
    "* https://rd-alliance.github.io/metadata-directory/standards/rdf-data-cube-vocabulary.html\n",
    "\n",
    "### Data and metadata to RDF-tripples\n",
    "We store data values in so-called Literals and use URIs to name and describe the data."
   ]
  },
  {
   "cell_type": "code",
   "execution_count": 4,
   "metadata": {
    "collapsed": false
   },
   "outputs": [],
   "source": [
    "#import rdflib\n",
    "from rdflib import Graph, ConjunctiveGraph, Literal, BNode, Namespace, URIRef, XSD\n",
    "from rdflib.namespace import DC, FOAF, RDF, RDFS\n",
    "from rdflib.plugins.memory import IOMemory\n",
    "\n",
    "from urllib.parse import quote"
   ]
  },
  {
   "cell_type": "markdown",
   "metadata": {},
   "source": [
    "### Namespaces define the recources and vocabulary we work with"
   ]
  },
  {
   "cell_type": "code",
   "execution_count": 5,
   "metadata": {
    "collapsed": true
   },
   "outputs": [],
   "source": [
    "n = Namespace(\"http://example.org/people/\")\n",
    "\n",
    "dcterms = Namespace(\"http://purl.org/dc/terms/\")\n",
    "dcmi = Namespace(\"http://purl.org/dc/dcmitype/\")\n",
    "dbr = Namespace(\"http://dbpedia.org/resource/\")\n",
    "owl = Namespace(\"http://www.w3.org/2002/07/owl#\")\n",
    "wot = Namespace(\"http://xmlns.com/wot/0.1/\")\n",
    "crypto = Namespace(\"https://www.w3.org/2000/10/swap/crypto#\")"
   ]
  },
  {
   "cell_type": "markdown",
   "metadata": {},
   "source": [
    "## Think about data and meta-data:\n",
    "### Experiment\n",
    "\n",
    "* The data itself with descriptions for its values\n",
    "* Date experiment, date of last evaluation\n",
    "* Temperature, pressure, material etc.\n",
    "* Methods\n",
    "\n",
    "\n",
    "\n",
    "### Experimentalist\n",
    "* Name experimentalist\n",
    "* Mail experimentalist\n",
    "* Digital signature experimentalist\n",
    "* Institution of the experimentalist\n",
    "\n",
    "### Intended publicity\n",
    "* Private/workgroup/institution/openAccess\n",
    "* Licensing terms\n",
    "\n",
    "### Tags\n",
    "Only very specific tags are useful!\n",
    "\n",
    "### A rating?\n",
    "http://vocab.org/review/"
   ]
  },
  {
   "cell_type": "code",
   "execution_count": 6,
   "metadata": {
    "collapsed": false
   },
   "outputs": [
    {
     "data": {
      "text/plain": [
       "rdflib.term.URIRef('file:///home/pathToCwd/methaGraph.jsonld')"
      ]
     },
     "execution_count": 6,
     "metadata": {},
     "output_type": "execute_result"
    }
   ],
   "source": [
    "cwd = \"/home/pathToCwd/\"# os.getcwd() get currend working directory\n",
    "fn = os.path.join(cwd, \"methaGraph.jsonld\")\n",
    "\n",
    "mdg = Namespace(\"file://\" + quote(fn) + \"#\")  # This is the namespace for the experiment\n",
    "\n",
    "myExp = URIRef(\"file://\" + quote(fn)) # This is the identifier for the experiment\n",
    "myExp"
   ]
  },
  {
   "cell_type": "code",
   "execution_count": 7,
   "metadata": {
    "collapsed": false
   },
   "outputs": [
    {
     "data": {
      "text/plain": [
       "rdflib.term.URIRef('/home/pathToCwd/high_intens.txt')"
      ]
     },
     "execution_count": 7,
     "metadata": {},
     "output_type": "execute_result"
    }
   ],
   "source": [
    "dataFn = os.path.join(cwd, \"high_intens.txt\")\n",
    "data = URIRef(quote(dataFn))\n",
    "data"
   ]
  },
  {
   "cell_type": "code",
   "execution_count": 8,
   "metadata": {
    "collapsed": false
   },
   "outputs": [],
   "source": [
    "importCode = Literal(\"\"\"\n",
    "import pandas as pd\n",
    "\n",
    "rawData = pd.read_table(\"high_intens.txt\", names = [\"Wavelength [nm]\",\"Counts [1/80 ms]\"],\n",
    "header=17, decimal=\",\")\n",
    "\"\"\" )\n",
    "\n",
    "# https://www.hl7.org/fhir/datatypes.html#code ?"
   ]
  },
  {
   "cell_type": "code",
   "execution_count": 9,
   "metadata": {
    "collapsed": false
   },
   "outputs": [],
   "source": [
    "index = Literal(rawData.index)"
   ]
  },
  {
   "cell_type": "code",
   "execution_count": 10,
   "metadata": {
    "collapsed": false
   },
   "outputs": [
    {
     "data": {
      "text/plain": [
       "rdflib.term.Literal(\"['Wavelength [nm]' 'Counts [1/80 ms]']\")"
      ]
     },
     "execution_count": 10,
     "metadata": {},
     "output_type": "execute_result"
    }
   ],
   "source": [
    "header = Literal(str(rawData.columns.values))\n",
    "header"
   ]
  },
  {
   "cell_type": "code",
   "execution_count": 11,
   "metadata": {
    "collapsed": false
   },
   "outputs": [],
   "source": [
    "from datetime import date, datetime\n",
    "\n",
    "dateExp = Literal(date(2013,2,18))\n",
    "dateLastEval = Literal(datetime.now())\n",
    "\n",
    "temp = Literal(25.5)\n",
    "pressure = Literal(1.003)\n",
    "lamp = URIRef(\"http://dbpedia.org/resource/Sodium-vapor_lamp\")\n",
    "\n",
    "\n",
    "spectrometer = dbr.Spectrometer\n",
    "specType =  URIRef(\"http://oceanoptics.com/product/usb4000-custom\")\n",
    "\n",
    "# Create an identifier to use as the subject for the experimentator.\n",
    "donna = URIRef(mdg.Donna)\n",
    "\n",
    "# Create Literal for public key (See below how to create the key itself)\n",
    "donna_public_keys = Literal('-----BEGIN PGP PUBLIC KEY BLOCK-----\\nVersion: GnuPG v1\\n\\nmQENBFh2cIgBCACcig8bNvxeNTI8HYY9hWU4Ut6NpSpwYnUPzZVWS9UTHKheiz+A\\nCBolg0Vr/4tnNzb+zcL9/jm2ZgFwMhOt8K5CQTifYXam8gLlvPfZvhi32lLdTW/x\\nmrW/CDQz1N1teJYqQXGcn3kJrWNZ2HGRyjqCfzeRNvOuARqjMNHYBnrioHLw8UA/\\nvB0mvmmWfY/zst75SlEF1z5ZZyrnNGvTLGTNXO43RLRNsXVkCjCB/689sGW9kWu5\\nafVvvOIaLWQYXLJDlnY5tcfRtwM/Y8izSwWMfRE90lH9biSewU1CaLQf9smyQisW\\nSIp2stHaxWPymf+f/KfSMp6Tyj1QyQs9x82HABEBAAG0NERvbm5hIEZhbGVzIChB\\nIHRlc3QgdXNlcikgPG1haWx0bzpkb25uYUBleGFtcGxlLm9yZz6JATgEEwECACIF\\nAlh2cIgCGy8GCwkIBwMCBhUIAgkKCwQWAgMBAh4BAheAAAoJEJdZONqMEJiHcUcH\\n/28H4cKsHYbM1gkrwwbRRfWzot7LoIbsbLBwpQyjtrCcX9P7R63gzH2fsY782qnf\\n4WDp2/mRJX7yNa5FbTyicf+l8I+ziPSKGX9u/ag5JqFHlM8bN2/NHvXJG/zh5WOg\\nB4G1HqoHx88BdIZF7Dx7cCDIe2S9RdlFTMsh08hwnpaC7xyK5rRSK8KlrNQMF2jc\\nmnPUvByEaOkgHlBG4vipNzeIvnY32SOkAtcwVrm6+Jq4bMBM5kg9TQpU7Db/QeAE\\nEDTC7Z458oTTW5Ttt41YpW5Q8GNj8vkfmJBR0Eg3UOd+/OcJMg8TIXdgyS7f7Ehq\\n1piBeLsZgY4zoxXcVOMbFsI=\\n=lA5q\\n-----END PGP PUBLIC KEY BLOCK-----\\n')\n",
    "\n",
    "publicity = Literal(\"Workgroup\")\n",
    "\n",
    "tag1 = Literal(\"SPAM SPAM SPAM EGG\")"
   ]
  },
  {
   "cell_type": "markdown",
   "metadata": {},
   "source": [
    "### Make list of triples"
   ]
  },
  {
   "cell_type": "code",
   "execution_count": 12,
   "metadata": {
    "collapsed": false
   },
   "outputs": [],
   "source": [
    "experiment = [(myExp, RDF.type, dbr.Experiment),\n",
    "              (myExp, RDFS.label, Literal(\"myExperimentGraph\")),\n",
    "              (myExp, dcterms.date, dateExp),\n",
    "              (myExp, dcterms.modifed, dateLastEval ),\n",
    "              (myExp, dcmi.Dataset, data),\n",
    "              (data, RDFS.label, header),\n",
    "              (myExp, dcterms.accrualMethod, spectrometer),\n",
    "              (spectrometer, RDF.type, specType),\n",
    "              (myExp, dbr.Light,lamp),\n",
    "             ]\n",
    "\n",
    "experimentator = [(donna, RDF.type, FOAF.Person),\n",
    "                  (donna, FOAF.name, Literal(\"Donna Fales\")),\n",
    "                  (donna, FOAF.mbox, URIRef(\"mailto:donna@example.org\")),\n",
    "                  (donna, dcterms.creator, myExp),\n",
    "                  (donna, wot.hasKey, donna_public_keys)\n",
    "                 ]\n",
    "\n",
    "public = [(myExp, dcterms.accessRights, publicity)]"
   ]
  },
  {
   "cell_type": "markdown",
   "metadata": {},
   "source": [
    "## Create graph with RDFLib"
   ]
  },
  {
   "cell_type": "code",
   "execution_count": 13,
   "metadata": {
    "collapsed": false
   },
   "outputs": [],
   "source": [
    "# A Conjunctive graph is an (unnamed) aggregation of all the named graphs within a Store.\n",
    "# See https://github.com/RDFLib/rdflib/blob/master/examples/conjunctive_graphs.py\n",
    "\n",
    "g = ConjunctiveGraph()\n",
    "if os.path.exists(fn):\n",
    "    g.load(myExp, format=\"json-ld\")\n",
    "    g.bind(\"dc\", DC)\n",
    "    g.bind(\"foaf\", FOAF)\n",
    "    g.bind(\"dcterms\", dcterms)\n",
    "    g.bind(\"dcmi\", dcmi)\n",
    "    g.bind(\"dbr\", dbr)\n",
    "    g.bind(\"owl\", owl)\n",
    "    g.bind(\"wot\", wot)\n",
    "    g.bind(\"dcterms\", dcterms)\n",
    "    g.bind(\"mdg\", mdg)\n",
    "    g.bind(\"crypto\", crypto)"
   ]
  },
  {
   "cell_type": "code",
   "execution_count": 14,
   "metadata": {
    "collapsed": false
   },
   "outputs": [
    {
     "data": {
      "text/html": [
       "<div>\n",
       "<table border=\"1\" class=\"dataframe\">\n",
       "  <thead>\n",
       "    <tr style=\"text-align: right;\">\n",
       "      <th></th>\n",
       "      <th>Subjects</th>\n",
       "      <th>Predicates</th>\n",
       "      <th>Objects</th>\n",
       "    </tr>\n",
       "  </thead>\n",
       "  <tbody>\n",
       "    <tr>\n",
       "      <th>0</th>\n",
       "      <td>file:///home/pathToCwd/methaGraph.jsonld</td>\n",
       "      <td>http://purl.org/dc/terms/accrualMethod</td>\n",
       "      <td>http://dbpedia.org/resource/Spectrometer</td>\n",
       "    </tr>\n",
       "    <tr>\n",
       "      <th>1</th>\n",
       "      <td>http://dbpedia.org/resource/Spectrometer</td>\n",
       "      <td>http://www.w3.org/1999/02/22-rdf-syntax-ns#type</td>\n",
       "      <td>http://oceanoptics.com/product/usb4000-custom</td>\n",
       "    </tr>\n",
       "    <tr>\n",
       "      <th>2</th>\n",
       "      <td>file:///home/pathToCwd/methaGraph.jsonld</td>\n",
       "      <td>http://www.w3.org/1999/02/22-rdf-syntax-ns#type</td>\n",
       "      <td>http://dbpedia.org/resource/Experiment</td>\n",
       "    </tr>\n",
       "    <tr>\n",
       "      <th>3</th>\n",
       "      <td>file:///home/pathToCwd/methaGraph.jsonld#Donna</td>\n",
       "      <td>http://www.w3.org/1999/02/22-rdf-syntax-ns#type</td>\n",
       "      <td>http://xmlns.com/foaf/0.1/Person</td>\n",
       "    </tr>\n",
       "    <tr>\n",
       "      <th>4</th>\n",
       "      <td>file:///home/pathToCwd/methaGraph.jsonld#Donna</td>\n",
       "      <td>http://purl.org/dc/terms/creator</td>\n",
       "      <td>file:///home/pathToCwd/methaGraph.jsonld</td>\n",
       "    </tr>\n",
       "    <tr>\n",
       "      <th>5</th>\n",
       "      <td>file:///home/pathToCwd/methaGraph.jsonld</td>\n",
       "      <td>http://purl.org/dc/terms/accessRights</td>\n",
       "      <td>Workgroup</td>\n",
       "    </tr>\n",
       "    <tr>\n",
       "      <th>6</th>\n",
       "      <td>/home/pathToCwd/high_intens.txt</td>\n",
       "      <td>http://www.w3.org/2000/01/rdf-schema#label</td>\n",
       "      <td>['Wavelength [nm]' 'Counts [1/80 ms]']</td>\n",
       "    </tr>\n",
       "    <tr>\n",
       "      <th>7</th>\n",
       "      <td>file:///home/pathToCwd/methaGraph.jsonld</td>\n",
       "      <td>http://purl.org/dc/dcmitype/Dataset</td>\n",
       "      <td>/home/pathToCwd/high_intens.txt</td>\n",
       "    </tr>\n",
       "    <tr>\n",
       "      <th>8</th>\n",
       "      <td>file:///home/pathToCwd/methaGraph.jsonld</td>\n",
       "      <td>http://purl.org/dc/terms/modifed</td>\n",
       "      <td>2017-01-16T21:26:03.401966</td>\n",
       "    </tr>\n",
       "    <tr>\n",
       "      <th>9</th>\n",
       "      <td>file:///home/pathToCwd/methaGraph.jsonld#Donna</td>\n",
       "      <td>http://xmlns.com/wot/0.1/hasKey</td>\n",
       "      <td>-----BEGIN PGP PUBLIC KEY BLOCK-----\\nVersion:...</td>\n",
       "    </tr>\n",
       "    <tr>\n",
       "      <th>10</th>\n",
       "      <td>file:///home/pathToCwd/methaGraph.jsonld</td>\n",
       "      <td>http://dbpedia.org/resource/Light</td>\n",
       "      <td>http://dbpedia.org/resource/Sodium-vapor_lamp</td>\n",
       "    </tr>\n",
       "    <tr>\n",
       "      <th>11</th>\n",
       "      <td>file:///home/pathToCwd/methaGraph.jsonld#Donna</td>\n",
       "      <td>http://xmlns.com/foaf/0.1/mbox</td>\n",
       "      <td>mailto:donna@example.org</td>\n",
       "    </tr>\n",
       "    <tr>\n",
       "      <th>12</th>\n",
       "      <td>file:///home/pathToCwd/methaGraph.jsonld</td>\n",
       "      <td>http://purl.org/dc/terms/date</td>\n",
       "      <td>2013-02-18</td>\n",
       "    </tr>\n",
       "    <tr>\n",
       "      <th>13</th>\n",
       "      <td>file:///home/pathToCwd/methaGraph.jsonld</td>\n",
       "      <td>http://www.w3.org/2000/01/rdf-schema#label</td>\n",
       "      <td>myExperimentGraph</td>\n",
       "    </tr>\n",
       "    <tr>\n",
       "      <th>14</th>\n",
       "      <td>file:///home/pathToCwd/methaGraph.jsonld#Donna</td>\n",
       "      <td>http://xmlns.com/foaf/0.1/name</td>\n",
       "      <td>Donna Fales</td>\n",
       "    </tr>\n",
       "  </tbody>\n",
       "</table>\n",
       "</div>"
      ],
      "text/plain": [
       "                                          Subjects  \\\n",
       "0         file:///home/pathToCwd/methaGraph.jsonld   \n",
       "1         http://dbpedia.org/resource/Spectrometer   \n",
       "2         file:///home/pathToCwd/methaGraph.jsonld   \n",
       "3   file:///home/pathToCwd/methaGraph.jsonld#Donna   \n",
       "4   file:///home/pathToCwd/methaGraph.jsonld#Donna   \n",
       "5         file:///home/pathToCwd/methaGraph.jsonld   \n",
       "6                  /home/pathToCwd/high_intens.txt   \n",
       "7         file:///home/pathToCwd/methaGraph.jsonld   \n",
       "8         file:///home/pathToCwd/methaGraph.jsonld   \n",
       "9   file:///home/pathToCwd/methaGraph.jsonld#Donna   \n",
       "10        file:///home/pathToCwd/methaGraph.jsonld   \n",
       "11  file:///home/pathToCwd/methaGraph.jsonld#Donna   \n",
       "12        file:///home/pathToCwd/methaGraph.jsonld   \n",
       "13        file:///home/pathToCwd/methaGraph.jsonld   \n",
       "14  file:///home/pathToCwd/methaGraph.jsonld#Donna   \n",
       "\n",
       "                                         Predicates  \\\n",
       "0            http://purl.org/dc/terms/accrualMethod   \n",
       "1   http://www.w3.org/1999/02/22-rdf-syntax-ns#type   \n",
       "2   http://www.w3.org/1999/02/22-rdf-syntax-ns#type   \n",
       "3   http://www.w3.org/1999/02/22-rdf-syntax-ns#type   \n",
       "4                  http://purl.org/dc/terms/creator   \n",
       "5             http://purl.org/dc/terms/accessRights   \n",
       "6        http://www.w3.org/2000/01/rdf-schema#label   \n",
       "7               http://purl.org/dc/dcmitype/Dataset   \n",
       "8                  http://purl.org/dc/terms/modifed   \n",
       "9                   http://xmlns.com/wot/0.1/hasKey   \n",
       "10                http://dbpedia.org/resource/Light   \n",
       "11                   http://xmlns.com/foaf/0.1/mbox   \n",
       "12                    http://purl.org/dc/terms/date   \n",
       "13       http://www.w3.org/2000/01/rdf-schema#label   \n",
       "14                   http://xmlns.com/foaf/0.1/name   \n",
       "\n",
       "                                              Objects  \n",
       "0            http://dbpedia.org/resource/Spectrometer  \n",
       "1       http://oceanoptics.com/product/usb4000-custom  \n",
       "2              http://dbpedia.org/resource/Experiment  \n",
       "3                    http://xmlns.com/foaf/0.1/Person  \n",
       "4            file:///home/pathToCwd/methaGraph.jsonld  \n",
       "5                                           Workgroup  \n",
       "6              ['Wavelength [nm]' 'Counts [1/80 ms]']  \n",
       "7                     /home/pathToCwd/high_intens.txt  \n",
       "8                          2017-01-16T21:26:03.401966  \n",
       "9   -----BEGIN PGP PUBLIC KEY BLOCK-----\\nVersion:...  \n",
       "10      http://dbpedia.org/resource/Sodium-vapor_lamp  \n",
       "11                           mailto:donna@example.org  \n",
       "12                                         2013-02-18  \n",
       "13                                  myExperimentGraph  \n",
       "14                                        Donna Fales  "
      ]
     },
     "execution_count": 14,
     "metadata": {},
     "output_type": "execute_result"
    }
   ],
   "source": [
    "# Add triples to named graphs\n",
    "gExp = Graph(store=g.store, identifier=\"Experiment\")\n",
    "gExpTator = Graph(store=g.store, identifier=\"Experimentator\")\n",
    "gPub = Graph(store=g.store, identifier=\"Publicity\")\n",
    "\n",
    "for triple in experiment:\n",
    "    gExp.add(triple)\n",
    "    \n",
    "for triple in experimentator:\n",
    "    gExpTator.add(triple)\n",
    "    \n",
    "for triple in public:\n",
    "    gPub.add(triple)\n",
    "\n",
    "\n",
    "# Create context for adressing the whole experiment data and metadata\n",
    "gExpGraph = Graph(store=g.store, identifier=\"myExperimentGraph\")\n",
    "\n",
    "gExpGraph += gExp + gExpTator + gPub\n",
    "\n",
    "pd.DataFrame(list(g.triples((None, None, None))), columns=[\"Subjects\", \"Predicates\", \"Objects\"])"
   ]
  },
  {
   "cell_type": "markdown",
   "metadata": {},
   "source": [
    "## Visualize graph"
   ]
  },
  {
   "cell_type": "code",
   "execution_count": 18,
   "metadata": {
    "collapsed": false
   },
   "outputs": [],
   "source": [
    "import matplotlib.pyplot as plt\n",
    "import networkx as nx\n",
    "\n",
    "def drwGraph(g, color):\n",
    "    G = nx.Graph()\n",
    "\n",
    "    # In NetworkX subjects and objects are nodes and predicates are edges\n",
    "    for s, p, o in g:\n",
    "        # Compaction\n",
    "        su = s.split(\"/\")[-1].split(\"#\")[-1]\n",
    "        pr = p.split(\"/\")[-1].split(\"#\")[-1]\n",
    "        ob = o.split(\"/\")[-1].split(\"#\")[-1]\n",
    "\n",
    "        G.add_edge(su, ob, {pr: \"\" })\n",
    "\n",
    "\n",
    "    plt.figure(figsize=(14,10))\n",
    "    node_sizes = [200*len(G.edges(n)) for n in G.nodes()] # Bigger for more edges\n",
    "    pos = nx.spring_layout(G)\n",
    "\n",
    "    nx.draw_networkx(G, pos=pos, node_size=node_sizes, linewidths=0, node_color=color)\n",
    "    nx.draw_networkx_edge_labels(G,pos)\n",
    "    plt.box(\"off\")\n",
    "    plt.axis(\"off\")\n",
    "    plt.show()"
   ]
  },
  {
   "cell_type": "code",
   "execution_count": 20,
   "metadata": {
    "collapsed": false
   },
   "outputs": [
    {
     "name": "stderr",
     "output_type": "stream",
     "text": [
      "/home/m/Schreibtisch/Interactive Labbook/MathVenv/lib/python3.4/site-packages/matplotlib/collections.py:631: FutureWarning: elementwise comparison failed; returning scalar instead, but in the future will perform elementwise comparison\n",
      "  if self._edgecolors_original != str('face'):\n",
      "/home/m/Schreibtisch/Interactive Labbook/MathVenv/lib/python3.4/site-packages/matplotlib/collections.py:571: FutureWarning: elementwise comparison failed; returning scalar instead, but in the future will perform elementwise comparison\n",
      "  if self._edgecolors == str('face'):\n"
     ]
    },
    {
     "data": {
      "image/png": "[encoded data removed]",
      "text/plain": [
       "<matplotlib.figure.Figure at 0x7f1dbfbfada0>"
      ]
     },
     "metadata": {},
     "output_type": "display_data"
    },
    {
     "data": {
      "image/png": "[encoded data removed]",
      "text/plain": [
       "<matplotlib.figure.Figure at 0x7f1db2ff24a8>"
      ]
     },
     "metadata": {},
     "output_type": "display_data"
    }
   ],
   "source": [
    "drwGraph(gExpTator, \"b\")\n",
    "drwGraph(gExpGraph, \"sandybrown\")"
   ]
  },
  {
   "cell_type": "markdown",
   "metadata": {},
   "source": [
    "## Sign graph and store it\n",
    "* Digital signature experimentator\n",
    "    * If you are not at all fammiliar with assymetric key cryptography: https://www.youtube.com/watch?v=CR8ZFRVmQLg\n",
    "    * https://pythonhosted.org/python-gnupg/\n",
    "    * https://www.w3.org/2005/Incubator/webid/wiki/Main_Page ?\n",
    "    * https://github.com/detrout/python-webid\n",
    "    \n",
    "### Create GPG keys"
   ]
  },
  {
   "cell_type": "code",
   "execution_count": 15,
   "metadata": {
    "collapsed": false
   },
   "outputs": [],
   "source": [
    "import gnupg\n",
    "gpg = gnupg.GPG()\n",
    "\n",
    "# Create a key pair\n",
    "input_data = gpg.gen_key_input(key_type=\"RSA\", key_length=2048, name_real=\"Donna Fales\"\n",
    "                              ,name_comment=\"A test user\", name_email=\"mailto:donna@example.org\")\n",
    "\n",
    "# only once:\n",
    "# key = gpg.gen_key(input_data) # See https://pythonhosted.org/python-gnupg/#performance-issues"
   ]
  },
  {
   "cell_type": "code",
   "execution_count": 16,
   "metadata": {
    "collapsed": false
   },
   "outputs": [
    {
     "name": "stdout",
     "output_type": "stream",
     "text": [
      "\n",
      "[{'algo': '1',\n",
      "  'date': '1484157064',\n",
      "  'dummy': '',\n",
      "  'expires': '',\n",
      "  'fingerprint': '92B19ACC9C85FA69DF81A5C4975938DA8C109887',\n",
      "  'keyid': '975938DA8C109887',\n",
      "  'length': '2048',\n",
      "  'ownertrust': 'u',\n",
      "  'sig': '',\n",
      "  'sigs': [],\n",
      "  'subkeys': [],\n",
      "  'trust': 'u',\n",
      "  'type': 'pub',\n",
      "  'uids': ['Donna Fales (A test user) <mailto:donna@example.org>']}]\n",
      "  \n"
     ]
    }
   ],
   "source": [
    "# List public keys\n",
    "keyData = gpg.list_keys() # private keys: gpg.list_keys(True)\n",
    "\n",
    "output = \"\"\"\n",
    "[{'algo': '1',\n",
    "  'date': '1484157064',\n",
    "  'dummy': '',\n",
    "  'expires': '',\n",
    "  'fingerprint': '92B19ACC9C85FA69DF81A5C4975938DA8C109887',\n",
    "  'keyid': '975938DA8C109887',\n",
    "  'length': '2048',\n",
    "  'ownertrust': 'u',\n",
    "  'sig': '',\n",
    "  'sigs': [],\n",
    "  'subkeys': [],\n",
    "  'trust': 'u',\n",
    "  'type': 'pub',\n",
    "  'uids': ['Donna Fales (A test user) <mailto:donna@example.org>']}]\n",
    "  \"\"\"\n",
    "\n",
    "# The list should contain something like this (depending on your existing keys)\n",
    "print(output)"
   ]
  },
  {
   "cell_type": "code",
   "execution_count": 17,
   "metadata": {
    "collapsed": false
   },
   "outputs": [
    {
     "name": "stdout",
     "output_type": "stream",
     "text": [
      "-----BEGIN PGP PUBLIC KEY BLOCK-----\n",
      "Version: GnuPG v1\n",
      "\n",
      "mQENBFh2cIgBCACcig8bNvxeNTI8HYY9hWU4Ut6NpSpwYnUPzZVWS9UTHKheiz+A\n",
      "CBolg0Vr/4tnNzb+zcL9/jm2ZgFwMhOt8K5CQTifYXam8gLlvPfZvhi32lLdTW/x\n",
      "mrW/CDQz1N1teJYqQXGcn3kJrWNZ2HGRyjqCfzeRNvOuARqjMNHYBnrioHLw8UA/\n",
      "vB0mvmmWfY/zst75SlEF1z5ZZyrnNGvTLGTNXO43RLRNsXVkCjCB/689sGW9kWu5\n",
      "afVvvOIaLWQYXLJDlnY5tcfRtwM/Y8izSwWMfRE90lH9biSewU1CaLQf9smyQisW\n",
      "SIp2stHaxWPymf+f/KfSMp6Tyj1QyQs9x82HABEBAAG0NERvbm5hIEZhbGVzIChB\n",
      "IHRlc3QgdXNlcikgPG1haWx0bzpkb25uYUBleGFtcGxlLm9yZz6JATgEEwECACIF\n",
      "Alh2cIgCGy8GCwkIBwMCBhUIAgkKCwQWAgMBAh4BAheAAAoJEJdZONqMEJiHcUcH\n",
      "/28H4cKsHYbM1gkrwwbRRfWzot7LoIbsbLBwpQyjtrCcX9P7R63gzH2fsY782qnf\n",
      "4WDp2/mRJX7yNa5FbTyicf+l8I+ziPSKGX9u/ag5JqFHlM8bN2/NHvXJG/zh5WOg\n",
      "B4G1HqoHx88BdIZF7Dx7cCDIe2S9RdlFTMsh08hwnpaC7xyK5rRSK8KlrNQMF2jc\n",
      "mnPUvByEaOkgHlBG4vipNzeIvnY32SOkAtcwVrm6+Jq4bMBM5kg9TQpU7Db/QeAE\n",
      "EDTC7Z458oTTW5Ttt41YpW5Q8GNj8vkfmJBR0Eg3UOd+/OcJMg8TIXdgyS7f7Ehq\n",
      "1piBeLsZgY4zoxXcVOMbFsI=\n",
      "=lA5q\n",
      "-----END PGP PUBLIC KEY BLOCK-----\n",
      "\n"
     ]
    }
   ],
   "source": [
    "# Export key\n",
    "keyid = '975938DA8C109887'\n",
    "\n",
    "ascii_donna_public_keys = gpg.export_keys(keyid)\n",
    "donna_public_keys = Literal(ascii_donna_public_keys)\n",
    "\n",
    "print(ascii_donna_public_keys)"
   ]
  },
  {
   "cell_type": "markdown",
   "metadata": {},
   "source": [
    "### Hash data\n",
    "http://pythoncentral.io/hashing-files-with-python/"
   ]
  },
  {
   "cell_type": "code",
   "execution_count": 18,
   "metadata": {
    "collapsed": false
   },
   "outputs": [],
   "source": [
    "import hashlib\n",
    "filename = \"high_intens.txt\"\n",
    "\n",
    "BLOCKSIZE = 65536\n",
    "hasher = hashlib.sha1()\n",
    "\n",
    "with open(filename, \"rb\") as stream:\n",
    "    buf = stream.read(BLOCKSIZE)\n",
    "    while len(buf) > 0:\n",
    "        hasher.update(buf)\n",
    "        buf = stream.read(BLOCKSIZE)\n",
    "\n",
    "dataHash = Literal(hasher.hexdigest())\n",
    "\n",
    "gExp.add((data,crypto.sha, dataHash))"
   ]
  },
  {
   "cell_type": "code",
   "execution_count": 19,
   "metadata": {
    "collapsed": false
   },
   "outputs": [
    {
     "name": "stdout",
     "output_type": "stream",
     "text": [
      "-----BEGIN PGP SIGNED MESSAGE-----\n",
      "Hash: SHA1\n",
      "\n",
      "177,54\t13,20\r\n",
      "177,75\t13,20\r\n",
      "177,97\t13,20\r\n",
      "178,19\t11,52\r\n",
      "178,41\t11,72\r\n",
      "178,63\t13,68\r\n",
      "178,85\t10,73\r\n",
      "179,07\t12,98\r\n",
      "179,29\t15,51\r\n",
      "179,51\t16,87\r\n",
      "179,73\t10,66\r\n",
      "179,95\t12,67\r\n",
      "180,17\t17,56\r\n",
      "180,39\t17,04\r\n",
      "180,61\t12,33\r\n",
      "180,83\t12,68\r\n",
      "181,05\t13,23\r\n",
      "181,27\t11,28\r\n",
      "1\n",
      "\n",
      "...\n",
      "...\n"
     ]
    }
   ],
   "source": [
    "# You can sign data with gpg directly but we will sign a hash of the\n",
    "# graph including the hash of the data as a Literal object\n",
    "\n",
    "with open(filename, \"rb\") as stream:\n",
    "    signed_data = gpg.sign_file(stream, keyid=\"975938DA8C109887\")\n",
    "\n",
    "print(str(signed_data)[0:300] + \"\\n\\n...\\n...\")"
   ]
  },
  {
   "cell_type": "markdown",
   "metadata": {},
   "source": [
    "### Hash graph\n",
    "RDFLib.RGDA1: The RDF Graph Digest Algorithm 1 (RGDA1) produces cryptographically secure hashes for all RDF graphs\n",
    "    * create platform-independent, cryptographically secure, reproducible identifiers for all RDF graphs, (from: WEBSIG: A DIGITAL SIGNATURE FRAMEWORK FOR THE WEB)"
   ]
  },
  {
   "cell_type": "code",
   "execution_count": 20,
   "metadata": {
    "collapsed": false
   },
   "outputs": [
    {
     "data": {
      "text/plain": [
       "'1000973175714773174394657975727339334874012862822329149053392935196204522504018'"
      ]
     },
     "execution_count": 20,
     "metadata": {},
     "output_type": "execute_result"
    }
   ],
   "source": [
    "from rdflib.compare import isomorphic, _TripleCanonicalizer\n",
    "# Warning: the time to canonicalize bnodes may increase exponentially on degenerate larger graphs\n",
    "\n",
    "\n",
    "# We use the context to specify which part of the graph we want to hash and sign\n",
    "gHash = str(_TripleCanonicalizer(gExpGraph).to_hash())\n",
    "gHash"
   ]
  },
  {
   "cell_type": "markdown",
   "metadata": {},
   "source": [
    "### Sign hash"
   ]
  },
  {
   "cell_type": "code",
   "execution_count": 21,
   "metadata": {
    "collapsed": false
   },
   "outputs": [
    {
     "name": "stdout",
     "output_type": "stream",
     "text": [
      "-----BEGIN PGP SIGNED MESSAGE-----\n",
      "Hash: SHA1\n",
      "\n",
      "1000973175714773174394657975727339334874012862822329149053392935196204522504018\n",
      "-----BEGIN PGP SIGNATURE-----\n",
      "Version: GnuPG v1\n",
      "\n",
      "iQEcBAEBAgAGBQJYfTqAAAoJEJdZONqMEJiH0MUH/A5QyhEcp07UDk0KzUwv4h7w\n",
      "h36sr2NjMTymkfYBDCYXMdYVQRL3GSL0jHbT6J57H7eyVFLqCf7tk5pBDeGNz+d4\n",
      "WRr850N+UJVx56sX1bkXRlmZm5mhqBXkWlwx95GGzHGsm52Ct7B0kN20dyyJx3I2\n",
      "xWSNay8gOvtrXs0KWdnpZTkyQP3nVJ+TF3m26UBgDjnxAY+ne1OpipLGwB5DVWZl\n",
      "LSC2pKMZdq7WapFKJ5WkXW7G9gV9bfFsaY65Q7c5QH7AhgtAXi6HIuqCLNCMgiTk\n",
      "J8ERS7IqFXLHUdeWty+bZNfaral4VGhYxo24qUxdTQDtmxsd8PXQP0I7WrFGWTY=\n",
      "=OdGv\n",
      "-----END PGP SIGNATURE-----\n",
      "\n"
     ]
    }
   ],
   "source": [
    "sH = gpg.sign(gHash, keyid=\"975938DA8C109887\") # gpg object\n",
    "signedHash = Literal(str(sH))\n",
    "sigDate = Literal(datetime.now())\n",
    "\n",
    "print(signedHash)"
   ]
  },
  {
   "cell_type": "markdown",
   "metadata": {},
   "source": [
    "### Add signature to a new named graph \"signatures\""
   ]
  },
  {
   "cell_type": "code",
   "execution_count": 22,
   "metadata": {
    "collapsed": false
   },
   "outputs": [
    {
     "data": {
      "text/html": [
       "<div>\n",
       "<table border=\"1\" class=\"dataframe\">\n",
       "  <thead>\n",
       "    <tr style=\"text-align: right;\">\n",
       "      <th></th>\n",
       "      <th>Subjects</th>\n",
       "      <th>Predicates</th>\n",
       "      <th>Objects</th>\n",
       "    </tr>\n",
       "  </thead>\n",
       "  <tbody>\n",
       "    <tr>\n",
       "      <th>0</th>\n",
       "      <td>file:///home/pathToCwd/methaGraph.jsonld</td>\n",
       "      <td>http://xmlns.com/wot/0.1/sigdate</td>\n",
       "      <td>2017-01-16T21:26:24.740440</td>\n",
       "    </tr>\n",
       "    <tr>\n",
       "      <th>1</th>\n",
       "      <td>file:///home/pathToCwd/methaGraph.jsonld#Donna</td>\n",
       "      <td>http://xmlns.com/wot/0.1/signed</td>\n",
       "      <td>-----BEGIN PGP SIGNED MESSAGE-----\\nHash: SHA1...</td>\n",
       "    </tr>\n",
       "  </tbody>\n",
       "</table>\n",
       "</div>"
      ],
      "text/plain": [
       "                                         Subjects  \\\n",
       "0        file:///home/pathToCwd/methaGraph.jsonld   \n",
       "1  file:///home/pathToCwd/methaGraph.jsonld#Donna   \n",
       "\n",
       "                         Predicates  \\\n",
       "0  http://xmlns.com/wot/0.1/sigdate   \n",
       "1   http://xmlns.com/wot/0.1/signed   \n",
       "\n",
       "                                             Objects  \n",
       "0                         2017-01-16T21:26:24.740440  \n",
       "1  -----BEGIN PGP SIGNED MESSAGE-----\\nHash: SHA1...  "
      ]
     },
     "execution_count": 22,
     "metadata": {},
     "output_type": "execute_result"
    }
   ],
   "source": [
    "sig = Graph(store=g.store, identifier=\"Signatures\")\n",
    "\n",
    "# Remove old signatures\n",
    "sig.remove((None, None, None))\n",
    "\n",
    "sig.add((donna, wot.signed, signedHash))  # the wot.signed is used wrong in this examle\n",
    "sig.add((myExp, wot.sigdate, sigDate))\n",
    "\n",
    "pd.DataFrame(list(sig.triples((None, None, None))), columns=[\"Subjects\", \"Predicates\", \"Objects\"])"
   ]
  },
  {
   "cell_type": "code",
   "execution_count": 23,
   "metadata": {
    "collapsed": false
   },
   "outputs": [
    {
     "name": "stdout",
     "output_type": "stream",
     "text": [
      "<Publicity> a rdfg:Graph;rdflib:storage [a rdflib:Store;rdfs:label 'IOMemory'].\n",
      "<Experiment> a rdfg:Graph;rdflib:storage [a rdflib:Store;rdfs:label 'IOMemory'].\n",
      "<Experimentator> a rdfg:Graph;rdflib:storage [a rdflib:Store;rdfs:label 'IOMemory'].\n",
      "<myExperimentGraph> a rdfg:Graph;rdflib:storage [a rdflib:Store;rdfs:label 'IOMemory'].\n",
      "<Signatures> a rdfg:Graph;rdflib:storage [a rdflib:Store;rdfs:label 'IOMemory'].\n"
     ]
    }
   ],
   "source": [
    "# Print out names/contexts of all graphs\n",
    "for c in g.contexts():\n",
    "    print(c)"
   ]
  },
  {
   "cell_type": "markdown",
   "metadata": {},
   "source": [
    "## Store in json-ld file"
   ]
  },
  {
   "cell_type": "code",
   "execution_count": 24,
   "metadata": {
    "collapsed": false
   },
   "outputs": [],
   "source": [
    "import rdflib_jsonld\n",
    "g.serialize(\"methaGraph.jsonld\", format='json-ld')"
   ]
  },
  {
   "cell_type": "markdown",
   "metadata": {},
   "source": [
    "## Open Graph again and look into data"
   ]
  },
  {
   "cell_type": "code",
   "execution_count": 25,
   "metadata": {
    "collapsed": false
   },
   "outputs": [
    {
     "data": {
      "text/html": [
       "<div>\n",
       "<table border=\"1\" class=\"dataframe\">\n",
       "  <thead>\n",
       "    <tr style=\"text-align: right;\">\n",
       "      <th></th>\n",
       "      <th>Subjects</th>\n",
       "      <th>Predicates</th>\n",
       "      <th>Objects</th>\n",
       "    </tr>\n",
       "  </thead>\n",
       "  <tbody>\n",
       "    <tr>\n",
       "      <th>0</th>\n",
       "      <td>file:///home/pathToCwd/methaGraph.jsonld</td>\n",
       "      <td>http://purl.org/dc/terms/accrualMethod</td>\n",
       "      <td>http://dbpedia.org/resource/Spectrometer</td>\n",
       "    </tr>\n",
       "    <tr>\n",
       "      <th>1</th>\n",
       "      <td>http://dbpedia.org/resource/Spectrometer</td>\n",
       "      <td>http://www.w3.org/1999/02/22-rdf-syntax-ns#type</td>\n",
       "      <td>http://oceanoptics.com/product/usb4000-custom</td>\n",
       "    </tr>\n",
       "    <tr>\n",
       "      <th>2</th>\n",
       "      <td>file:///home/pathToCwd/methaGraph.jsonld</td>\n",
       "      <td>http://www.w3.org/2000/01/rdf-schema#label</td>\n",
       "      <td>myExperimentGraph</td>\n",
       "    </tr>\n",
       "    <tr>\n",
       "      <th>3</th>\n",
       "      <td>file:///home/pathToCwd/methaGraph.jsonld#Donna</td>\n",
       "      <td>http://xmlns.com/foaf/0.1/mbox</td>\n",
       "      <td>mailto:donna@example.org</td>\n",
       "    </tr>\n",
       "    <tr>\n",
       "      <th>4</th>\n",
       "      <td>file:///home/pathToCwd/methaGraph.jsonld#Donna</td>\n",
       "      <td>http://www.w3.org/1999/02/22-rdf-syntax-ns#type</td>\n",
       "      <td>http://xmlns.com/foaf/0.1/Person</td>\n",
       "    </tr>\n",
       "    <tr>\n",
       "      <th>5</th>\n",
       "      <td>file:///home/pathToCwd/methaGraph.jsonld</td>\n",
       "      <td>http://purl.org/dc/terms/modifed</td>\n",
       "      <td>2017-01-16T21:26:03.401966</td>\n",
       "    </tr>\n",
       "    <tr>\n",
       "      <th>6</th>\n",
       "      <td>file:///home/pathToCwd/methaGraph.jsonld#Donna</td>\n",
       "      <td>http://xmlns.com/wot/0.1/signed</td>\n",
       "      <td>-----BEGIN PGP SIGNED MESSAGE-----\\nHash: SHA1...</td>\n",
       "    </tr>\n",
       "    <tr>\n",
       "      <th>7</th>\n",
       "      <td>file:///home/pathToCwd/high_intens.txt</td>\n",
       "      <td>http://www.w3.org/2000/01/rdf-schema#label</td>\n",
       "      <td>['Wavelength [nm]' 'Counts [1/80 ms]']</td>\n",
       "    </tr>\n",
       "    <tr>\n",
       "      <th>8</th>\n",
       "      <td>file:///home/pathToCwd/methaGraph.jsonld</td>\n",
       "      <td>http://www.w3.org/1999/02/22-rdf-syntax-ns#type</td>\n",
       "      <td>http://dbpedia.org/resource/Experiment</td>\n",
       "    </tr>\n",
       "    <tr>\n",
       "      <th>9</th>\n",
       "      <td>file:///home/pathToCwd/methaGraph.jsonld#Donna</td>\n",
       "      <td>http://xmlns.com/wot/0.1/hasKey</td>\n",
       "      <td>-----BEGIN PGP PUBLIC KEY BLOCK-----\\nVersion:...</td>\n",
       "    </tr>\n",
       "    <tr>\n",
       "      <th>10</th>\n",
       "      <td>file:///home/pathToCwd/methaGraph.jsonld</td>\n",
       "      <td>http://purl.org/dc/terms/date</td>\n",
       "      <td>2013-02-18</td>\n",
       "    </tr>\n",
       "    <tr>\n",
       "      <th>11</th>\n",
       "      <td>file:///home/pathToCwd/methaGraph.jsonld#Donna</td>\n",
       "      <td>http://purl.org/dc/terms/creator</td>\n",
       "      <td>file:///home/pathToCwd/methaGraph.jsonld</td>\n",
       "    </tr>\n",
       "    <tr>\n",
       "      <th>12</th>\n",
       "      <td>file:///home/pathToCwd/methaGraph.jsonld</td>\n",
       "      <td>http://xmlns.com/wot/0.1/sigdate</td>\n",
       "      <td>2017-01-16T21:26:24.740440</td>\n",
       "    </tr>\n",
       "    <tr>\n",
       "      <th>13</th>\n",
       "      <td>file:///home/pathToCwd/methaGraph.jsonld</td>\n",
       "      <td>http://purl.org/dc/dcmitype/Dataset</td>\n",
       "      <td>file:///home/pathToCwd/high_intens.txt</td>\n",
       "    </tr>\n",
       "    <tr>\n",
       "      <th>14</th>\n",
       "      <td>file:///home/pathToCwd/methaGraph.jsonld</td>\n",
       "      <td>http://purl.org/dc/terms/accessRights</td>\n",
       "      <td>Workgroup</td>\n",
       "    </tr>\n",
       "    <tr>\n",
       "      <th>15</th>\n",
       "      <td>file:///home/pathToCwd/methaGraph.jsonld</td>\n",
       "      <td>http://dbpedia.org/resource/Light</td>\n",
       "      <td>http://dbpedia.org/resource/Sodium-vapor_lamp</td>\n",
       "    </tr>\n",
       "    <tr>\n",
       "      <th>16</th>\n",
       "      <td>file:///home/pathToCwd/high_intens.txt</td>\n",
       "      <td>https://www.w3.org/2000/10/swap/crypto#sha</td>\n",
       "      <td>5657eb62368fbe9b96b169889489249b5fd63356</td>\n",
       "    </tr>\n",
       "    <tr>\n",
       "      <th>17</th>\n",
       "      <td>file:///home/pathToCwd/methaGraph.jsonld#Donna</td>\n",
       "      <td>http://xmlns.com/foaf/0.1/name</td>\n",
       "      <td>Donna Fales</td>\n",
       "    </tr>\n",
       "  </tbody>\n",
       "</table>\n",
       "</div>"
      ],
      "text/plain": [
       "                                          Subjects  \\\n",
       "0         file:///home/pathToCwd/methaGraph.jsonld   \n",
       "1         http://dbpedia.org/resource/Spectrometer   \n",
       "2         file:///home/pathToCwd/methaGraph.jsonld   \n",
       "3   file:///home/pathToCwd/methaGraph.jsonld#Donna   \n",
       "4   file:///home/pathToCwd/methaGraph.jsonld#Donna   \n",
       "5         file:///home/pathToCwd/methaGraph.jsonld   \n",
       "6   file:///home/pathToCwd/methaGraph.jsonld#Donna   \n",
       "7           file:///home/pathToCwd/high_intens.txt   \n",
       "8         file:///home/pathToCwd/methaGraph.jsonld   \n",
       "9   file:///home/pathToCwd/methaGraph.jsonld#Donna   \n",
       "10        file:///home/pathToCwd/methaGraph.jsonld   \n",
       "11  file:///home/pathToCwd/methaGraph.jsonld#Donna   \n",
       "12        file:///home/pathToCwd/methaGraph.jsonld   \n",
       "13        file:///home/pathToCwd/methaGraph.jsonld   \n",
       "14        file:///home/pathToCwd/methaGraph.jsonld   \n",
       "15        file:///home/pathToCwd/methaGraph.jsonld   \n",
       "16          file:///home/pathToCwd/high_intens.txt   \n",
       "17  file:///home/pathToCwd/methaGraph.jsonld#Donna   \n",
       "\n",
       "                                         Predicates  \\\n",
       "0            http://purl.org/dc/terms/accrualMethod   \n",
       "1   http://www.w3.org/1999/02/22-rdf-syntax-ns#type   \n",
       "2        http://www.w3.org/2000/01/rdf-schema#label   \n",
       "3                    http://xmlns.com/foaf/0.1/mbox   \n",
       "4   http://www.w3.org/1999/02/22-rdf-syntax-ns#type   \n",
       "5                  http://purl.org/dc/terms/modifed   \n",
       "6                   http://xmlns.com/wot/0.1/signed   \n",
       "7        http://www.w3.org/2000/01/rdf-schema#label   \n",
       "8   http://www.w3.org/1999/02/22-rdf-syntax-ns#type   \n",
       "9                   http://xmlns.com/wot/0.1/hasKey   \n",
       "10                    http://purl.org/dc/terms/date   \n",
       "11                 http://purl.org/dc/terms/creator   \n",
       "12                 http://xmlns.com/wot/0.1/sigdate   \n",
       "13              http://purl.org/dc/dcmitype/Dataset   \n",
       "14            http://purl.org/dc/terms/accessRights   \n",
       "15                http://dbpedia.org/resource/Light   \n",
       "16       https://www.w3.org/2000/10/swap/crypto#sha   \n",
       "17                   http://xmlns.com/foaf/0.1/name   \n",
       "\n",
       "                                              Objects  \n",
       "0            http://dbpedia.org/resource/Spectrometer  \n",
       "1       http://oceanoptics.com/product/usb4000-custom  \n",
       "2                                   myExperimentGraph  \n",
       "3                            mailto:donna@example.org  \n",
       "4                    http://xmlns.com/foaf/0.1/Person  \n",
       "5                          2017-01-16T21:26:03.401966  \n",
       "6   -----BEGIN PGP SIGNED MESSAGE-----\\nHash: SHA1...  \n",
       "7              ['Wavelength [nm]' 'Counts [1/80 ms]']  \n",
       "8              http://dbpedia.org/resource/Experiment  \n",
       "9   -----BEGIN PGP PUBLIC KEY BLOCK-----\\nVersion:...  \n",
       "10                                         2013-02-18  \n",
       "11           file:///home/pathToCwd/methaGraph.jsonld  \n",
       "12                         2017-01-16T21:26:24.740440  \n",
       "13             file:///home/pathToCwd/high_intens.txt  \n",
       "14                                          Workgroup  \n",
       "15      http://dbpedia.org/resource/Sodium-vapor_lamp  \n",
       "16           5657eb62368fbe9b96b169889489249b5fd63356  \n",
       "17                                        Donna Fales  "
      ]
     },
     "execution_count": 25,
     "metadata": {},
     "output_type": "execute_result"
    }
   ],
   "source": [
    "newGraph = ConjunctiveGraph()\n",
    "\n",
    "newGraph.load(\"methaGraph.jsonld\", format='json-ld')\n",
    "\n",
    "pd.DataFrame(list(newGraph.triples((None, None, None))), columns=[\"Subjects\", \"Predicates\", \"Objects\"])"
   ]
  },
  {
   "cell_type": "code",
   "execution_count": null,
   "metadata": {
    "collapsed": false
   },
   "outputs": [],
   "source": [
    "# Print out names/contexts of all graphs\n",
    "for c in newGraph.contexts():\n",
    "    print(c)\n",
    "\n",
    "c.identifier"
   ]
  },
  {
   "cell_type": "markdown",
   "metadata": {},
   "source": [
    "## Verification of a graph\n"
   ]
  },
  {
   "cell_type": "code",
   "execution_count": 26,
   "metadata": {
    "collapsed": false
   },
   "outputs": [
    {
     "name": "stdout",
     "output_type": "stream",
     "text": [
      "1000973175714773174394657975727339334874012862822329149053392935196204522504018\n",
      "1000973175714773174394657975727339334874012862822329149053392935196204522504018\n",
      "Graph verified\n"
     ]
    }
   ],
   "source": [
    "# Quick and dirty\n",
    "for h in newGraph.objects(donna, wot.signed):\n",
    "    # First verify the signature\n",
    "    if gpg.verify(str(h)):\n",
    "        # Second compare hash\n",
    "        sigHash = gpg.decrypt(h).data.decode(\"utf-8\").strip() # gpg.decrypt(h): bytes --> string\n",
    "        \n",
    "        identifier = str(g.value(myExp, RDFS.label))\n",
    "        signedG = g.get_context(identifier)\n",
    "        realHash = str(_TripleCanonicalizer(signedG).to_hash())  # What happens if there are two\n",
    "                                                                # equal identifiers?\n",
    "        print(sigHash)\n",
    "        print(realHash)\n",
    "        \n",
    "        if sigHash == realHash:\n",
    "            print(\"Graph verified\")\n",
    "        \n",
    "        else:\n",
    "            print(\"Signature verified but graph has changed\")\n",
    "    \n",
    "    else:\n",
    "        print(\"Signature verification failed\")"
   ]
  },
  {
   "cell_type": "code",
   "execution_count": null,
   "metadata": {
    "collapsed": false
   },
   "outputs": [],
   "source": [
    "# Is this really a safe verification ?\n",
    "\n",
    "to_isomorphic(signedG).internal_hash() # The conjunctive graph is hashed instead of the named graph ?? --> ISOMORPHIC\n",
    "isomorphic(to_isomorphic(signedG) == to_isomorphic(g))\n",
    "\n",
    "# !!!\n",
    "_TripleCanonicalizer(signedG).to_hash() == _TripleCanonicalizer(myG).to_hash()"
   ]
  },
  {
   "cell_type": "markdown",
   "metadata": {},
   "source": [
    "## Store graph with sleepycat"
   ]
  },
  {
   "cell_type": "code",
   "execution_count": 10,
   "metadata": {
    "collapsed": false
   },
   "outputs": [],
   "source": [
    "# A Conjunctive graph is an (unnamed) aggregation of all the named graphs within a Store.\n",
    "# See https://github.com/RDFLib/rdflib/blob/master/examples/conjunctive_graphs.py\n",
    "from rdflib.store import NO_STORE, VALID_STORE\n",
    "\n",
    "path = \"myRDFLibStore\"\n",
    "store = 'Sleepycat'\n",
    "\n",
    "gS = ConjunctiveGraph(store=store, identifier=\"myRDFLibStore\")\n",
    "\n",
    "# We want to store the graph after use on the disk\n",
    "rt = gS.open(path, create=False)\n",
    "\n",
    "if rt == NO_STORE:\n",
    "    # There is no underlying Sleepycat infrastructure, create it\n",
    "    gS.open(path, create=True)\n",
    "else:\n",
    "    assert rt == VALID_STORE, 'The underlying store is corrupt'\n",
    "\n",
    "\n",
    "# Add tripples\n",
    "gS += g\n",
    "\n",
    "# After use close!\n",
    "gS.close()"
   ]
  },
  {
   "cell_type": "markdown",
   "metadata": {},
   "source": [
    "## Create class for automated integration in workflow\n",
    "* https://docs.python.org/3.4/tutorial/classes.html\n",
    "* https://github.com/RDFLib/rdflib/blob/master/examples/film.py"
   ]
  },
  {
   "cell_type": "markdown",
   "metadata": {},
   "source": [
    "## Search through ontologies"
   ]
  },
  {
   "cell_type": "code",
   "execution_count": 108,
   "metadata": {
    "collapsed": false
   },
   "outputs": [
    {
     "name": "stdout",
     "output_type": "stream",
     "text": [
      "----------\n",
      "Reading: <https://www.w3.org/2000/10/swap/crypto#>\n",
      ".. trying rdf serialization: <xml>\n",
      "..... success!\n",
      "----------\n",
      "Loaded 35 triples.\n",
      "----------\n",
      "RDF sources loaded successfully: 1 of 1.\n",
      "----------\n",
      "-> https://www.w3.org/2000/10/swap/crypto#\n",
      "Scanning entities...\n",
      "----------\n",
      "Ontologies.........: 0\n",
      "Classes............: 2\n",
      "Properties.........: 5\n",
      "..annotation.......: 0\n",
      "..datatype.........: 0\n",
      "..object...........: 2\n",
      "Concepts (SKOS)....: 0\n",
      "----------\n"
     ]
    },
    {
     "data": {
      "text/plain": [
       "[<Class *http://www.w3.org/2000/10/swap/crypto#HashFunction*>,\n",
       " <Class *http://www.w3.org/2000/10/swap/crypto#PublicKeyObject*>]"
      ]
     },
     "execution_count": 108,
     "metadata": {},
     "output_type": "execute_result"
    }
   ],
   "source": [
    "import ontospy\n",
    "\n",
    "model = ontospy.Ontospy(\"https://www.w3.org/2000/10/swap/crypto#\")\n",
    "model.classes"
   ]
  },
  {
   "cell_type": "code",
   "execution_count": 109,
   "metadata": {
    "collapsed": false
   },
   "outputs": [
    {
     "data": {
      "text/plain": [
       "[<Property *http://www.w3.org/2000/10/swap/crypto#md5*>,\n",
       " <Property *http://www.w3.org/2000/10/swap/crypto#sha*>,\n",
       " <Property *http://www.w3.org/2000/10/swap/crypto#sign*>,\n",
       " <Property *http://www.w3.org/2000/10/swap/crypto#verify*>,\n",
       " <Property *http://www.w3.org/2000/10/swap/crypto#verifyBoolean*>]"
      ]
     },
     "execution_count": 109,
     "metadata": {},
     "output_type": "execute_result"
    }
   ],
   "source": [
    "model.properties"
   ]
  },
  {
   "cell_type": "code",
   "execution_count": 110,
   "metadata": {
    "collapsed": false
   },
   "outputs": [
    {
     "name": "stdout",
     "output_type": "stream",
     "text": [
      "http://www.w3.org/2000/10/swap/crypto#HashFunction\n",
      "http://www.w3.org/2000/10/swap/crypto#PublicKeyObject\n"
     ]
    }
   ],
   "source": [
    "model.printClassTree()"
   ]
  }
 ],
 "metadata": {
  "kernelspec": {
   "display_name": "Python 3",
   "language": "python",
   "name": "python3"
  },
  "language_info": {
   "codemirror_mode": {
    "name": "ipython",
    "version": 3
   },
   "file_extension": ".py",
   "mimetype": "text/x-python",
   "name": "python",
   "nbconvert_exporter": "python",
   "pygments_lexer": "ipython3",
   "version": "3.4.2"
  }
 },
 "nbformat": 4,
 "nbformat_minor": 0
}
